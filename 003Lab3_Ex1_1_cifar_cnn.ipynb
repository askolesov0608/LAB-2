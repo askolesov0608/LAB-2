{
  "nbformat": 4,
  "nbformat_minor": 0,
  "metadata": {
    "colab": {
      "provenance": [],
      "private_outputs": true,
      "gpuType": "T4",
      "include_colab_link": true
    },
    "kernelspec": {
      "display_name": "Python 3",
      "name": "python3"
    },
    "language_info": {
      "codemirror_mode": {
        "name": "ipython",
        "version": 3
      },
      "file_extension": ".py",
      "mimetype": "text/x-python",
      "name": "python",
      "nbconvert_exporter": "python",
      "pygments_lexer": "ipython3",
      "version": "3.7.3"
    },
    "accelerator": "GPU"
  },
  "cells": [
    {
      "cell_type": "markdown",
      "metadata": {
        "id": "view-in-github",
        "colab_type": "text"
      },
      "source": [
        "<a href=\"https://colab.research.google.com/github/askolesov0608/LAB-2/blob/master/003Lab3_Ex1_1_cifar_cnn.ipynb\" target=\"_parent\"><img src=\"https://colab.research.google.com/assets/colab-badge.svg\" alt=\"Open In Colab\"/></a>"
      ]
    },
    {
      "cell_type": "code",
      "metadata": {
        "id": "-oROxa7MtIp0"
      },
      "source": [
        "from tensorflow import keras\n",
        "from keras.utils import get_file\n",
        "from tensorflow.keras.callbacks import CSVLogger\n",
        "from tensorflow.keras.utils import to_categorical\n",
        "import os\n",
        "from tensorflow.keras.datasets import cifar10\n",
        "from tensorflow.keras.models import Sequential\n",
        "from tensorflow.keras.layers import Dense, Conv2D, Flatten, Activation, GlobalAveragePooling2D\n",
        "from tensorflow.keras.optimizers import SGD, Adam\n",
        "import matplotlib.pyplot as plt\n",
        "from random import seed, randint\n",
        "import time\n",
        "import pandas as pd"
      ],
      "execution_count": null,
      "outputs": []
    },
    {
      "cell_type": "code",
      "source": [
        "from google.colab import drive\n",
        "drive.mount('/content/drive/')\n",
        "\n",
        "# Указываем путь сохранения лога на Google Диске\n",
        "log_dir = '/content/drive/My Drive/Colab Notebooks/Logs'\n",
        "os.makedirs(log_dir, exist_ok=True)\n",
        "\n",
        "# Настройка CSVLogger для сохранения на Google Диске\n",
        "drive_log_path = os.path.join(log_dir, 'drive_log.csv')\n",
        "drive_csv_logger = CSVLogger(drive_log_path, append=True, separator=';')"
      ],
      "metadata": {
        "id": "FO7bZ6xKRLpJ"
      },
      "execution_count": null,
      "outputs": []
    },
    {
      "cell_type": "code",
      "source": [
        "print(get_file('dummy', origin='https://example.com'))"
      ],
      "metadata": {
        "id": "IAocpgDzEHrS"
      },
      "execution_count": null,
      "outputs": []
    },
    {
      "cell_type": "code",
      "metadata": {
        "id": "gM80Ki1ytMvw"
      },
      "source": [
        "# reading dataset\n",
        "\n",
        "(train_X, train_Y), (val_X, val_Y) = cifar10.load_data()\n",
        "(x_train, y_train), (x_test, y_test) = cifar10.load_data()\n",
        "\n",
        "# shapes of data structures\n",
        "print('tamaños conjunto de entrenamiento X:', train_X.shape, '  Y:', train_Y.shape)\n",
        "print('tamaños conjunto de validación X:', val_X.shape, '  Y:', val_Y.shape )\n",
        "print(\"Размер обучающего набора изображений: \", x_train.shape)\n",
        "print(\"Размер обучающего набора меток: \", y_train.shape)\n",
        "print(\"Размер тестового набора изображений: \", x_test.shape)\n",
        "print(\"Размер тестового набора меток: \", y_test.shape)\n"
      ],
      "execution_count": null,
      "outputs": []
    },
    {
      "cell_type": "code",
      "metadata": {
        "id": "YCwJ93597fxR"
      },
      "source": [
        "# displaying randomly chosen images\n",
        "seed(1)\n",
        "plt.figure(1, figsize=(10,6))\n",
        "for i in range(16):\n",
        "    plt.subplot(4, 4, i+1)\n",
        "    plt.tight_layout()\n",
        "    j = randint(0, train_Y.shape[0]-1)\n",
        "    plt.imshow(train_X[j], interpolation='lanczos')\n",
        "    plt.title('class:{0}, pos:{1}'.format(train_Y[j], j))\n",
        "    plt.axis(\"off\")\n",
        "plt.show()"
      ],
      "execution_count": null,
      "outputs": []
    },
    {
      "cell_type": "code",
      "metadata": {
        "id": "w8V6v5OWtddv"
      },
      "source": [
        "# preprocessing data\n",
        "\n",
        "num_classes = 10\n",
        "train_X = train_X.astype('float32')\n",
        "val_X = val_X.astype('float32')\n",
        "\n",
        "train_X /= 255\n",
        "val_X /= 255\n",
        "\n",
        "train_Y = keras.utils.to_categorical(train_Y, num_classes)\n",
        "val_Y = keras.utils.to_categorical(val_Y, num_classes)\n",
        "\n",
        "print('tamaños conjunto de entrenamiento X:', train_X.shape, '  Y:', train_Y.shape)\n",
        "print('tamaños conjunto de validación X:', val_X.shape, '  Y:', val_Y.shape )"
      ],
      "execution_count": null,
      "outputs": []
    },
    {
      "cell_type": "code",
      "source": [
        "# Нормализация изображений\n",
        "x_train = x_train.astype('float32') / 255.0\n",
        "x_test = x_test.astype('float32') / 255.0\n",
        "\n",
        "# Преобразование меток в категориальный формат\n",
        "y_train = to_categorical(y_train, 10)\n",
        "y_test = to_categorical(y_test, 10)\n",
        "\n",
        "print(y_train)\n",
        "print(y_test)\n"
      ],
      "metadata": {
        "id": "jucYjVKipL3b"
      },
      "execution_count": null,
      "outputs": []
    },
    {
      "cell_type": "code",
      "metadata": {
        "id": "IfJ23wwGSTem"
      },
      "source": [
        "# model definition\n",
        "model = Sequential()\n",
        "\n",
        "model.add(Conv2D(32, (3, 3), padding='same', input_shape=train_X.shape[1:])) # input_shape=(32,32,3)\n",
        "model.add(Activation('relu'))\n",
        "model.add(Conv2D(32, (3, 3), padding='same'))\n",
        "model.add(Activation('relu'))\n",
        "model.add(keras.layers.MaxPooling2D(pool_size=(2, 2)))\n",
        "\n",
        "model.add(Conv2D(64, (3, 3), padding='same'))\n",
        "model.add(Activation('relu'))\n",
        "model.add(Conv2D(64, (3, 3), padding='same'))\n",
        "model.add(Activation('relu'))\n",
        "model.add(keras.layers.MaxPooling2D(pool_size=(2, 2)))\n",
        "\n",
        "model.add(Conv2D(128, (3, 3), padding='same'))\n",
        "model.add(Activation('relu'))\n",
        "model.add(Conv2D(128, (3, 3), padding='same'))\n",
        "model.add(Activation('relu'))\n",
        "model.add(keras.layers.MaxPooling2D(pool_size=(2, 2)))\n",
        "\n",
        "model.add(Conv2D(256, (3, 3), padding='same'))\n",
        "model.add(Activation('relu'))\n",
        "model.add(Conv2D(256, (3, 3), padding='same'))\n",
        "model.add(Activation('relu'))\n",
        "model.add(keras.layers.MaxPooling2D(pool_size=(2, 2)))\n",
        "\n",
        "model.add(Conv2D(512, (3, 3), padding='same'))\n",
        "model.add(Activation('relu'))\n",
        "model.add(Conv2D(512, (3, 3), padding='same'))\n",
        "model.add(Activation('relu'))\n",
        "model.add(keras.layers.MaxPooling2D(pool_size=(2, 2)))\n",
        "\n",
        "model.add(Flatten())\n",
        "model.add(Dense(512, activation='relu'))\n",
        "model.add(Dense(num_classes, activation='softmax'))\n",
        "\n",
        "model.summary()"
      ],
      "execution_count": null,
      "outputs": []
    },
    {
      "cell_type": "code",
      "metadata": {
        "id": "oe14lhnrnA5Y"
      },
      "source": [
        "# hyperparameters\n",
        "opt = SGD(learning_rate=0.01, momentum=0.9)\n",
        "# opt = Adam(learning_rate=0.001)\n",
        "model.compile(loss='categorical_crossentropy', optimizer=opt, metrics=['accuracy'])\n",
        "\n",
        "batch_size = 100\n",
        "epochs = 50\n",
        "\n",
        "best_model_path = 'best_model'\n",
        "model_checkpoint = keras.callbacks.ModelCheckpoint(\n",
        "    filepath = best_model_path,\n",
        "    save_weights_only = True,\n",
        "    monitor = 'val_loss',\n",
        "    mode = 'min',\n",
        "    save_best_only = True,\n",
        "    save_freq='epoch'\n",
        ")\n",
        "\n",
        "log_path='log.csv'\n",
        "history_logger = keras.callbacks.CSVLogger(\n",
        "    filename=log_path,\n",
        "    separator=\",\",\n",
        "    append=True\n",
        ")\n",
        "\n",
        "# Optimización del modelo (entrenamiento)\n",
        "start_time = time.time()\n",
        "history = model.fit(x_train, y_train, batch_size=batch_size, epochs=epochs, validation_data=(x_test, y_test), shuffle=True, callbacks=[model_checkpoint, history_logger])\n",
        "print('Tiempo: {0:.2f} min'.format((time.time()-start_time)/60))\n",
        "\n",
        "\n"
      ],
      "execution_count": null,
      "outputs": []
    },
    {
      "cell_type": "code",
      "source": [
        "# recovering the best model\n",
        "model.load_weights(best_model_path)"
      ],
      "metadata": {
        "id": "mTOLacwq8H7d"
      },
      "execution_count": null,
      "outputs": []
    },
    {
      "cell_type": "code",
      "metadata": {
        "id": "6tfH5EiAqMJd"
      },
      "source": [
        "# testing de model\n",
        "train_res = model.evaluate(train_X, train_Y, verbose=0)\n",
        "val_res = model.evaluate(val_X, val_Y, verbose=0)\n",
        "\n",
        "print('Resultados ENTRENAMIENTO: loss={:.4f}, accuracy={:.4f}'.format(train_res[0], train_res[1]))\n",
        "print('Resultados VALIDACIÓN: loss={:.4f}, accuracy={:.4f}'.format(val_res[0], val_res[1]))\n",
        "\n",
        "# plotting learnin curves\n",
        "plt.figure(2)\n",
        "plt.plot(range(1,epochs+1), history.history['accuracy'])\n",
        "plt.plot(range(1,epochs+1), history.history['val_accuracy'])\n",
        "plt.xticks(range(1,epochs+1))\n",
        "plt.xlim(1,epochs)\n",
        "plt.ylim(0, 1)\n",
        "plt.show()"
      ],
      "execution_count": null,
      "outputs": []
    }
  ]
}